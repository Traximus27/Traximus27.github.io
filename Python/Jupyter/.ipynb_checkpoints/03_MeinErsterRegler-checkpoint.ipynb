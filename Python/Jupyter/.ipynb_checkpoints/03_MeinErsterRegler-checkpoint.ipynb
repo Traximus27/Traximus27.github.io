{
 "cells": [
  {
   "cell_type": "code",
   "execution_count": 3,
   "id": "2e58a344-edc3-4554-afeb-399344d44eef",
   "metadata": {},
   "outputs": [],
   "source": [
    "import control as ct\n",
    "import numpy as np \n",
    "from matplotlib import pyplot as plt"
   ]
  },
  {
   "cell_type": "code",
   "execution_count": 4,
   "id": "5bf8f8a9-1102-4a0b-a65b-a34dc71681e5",
   "metadata": {},
   "outputs": [],
   "source": [
    "s = ct.tf('s')\n",
    "sys = 0.5/((s + 1)*(s + 2))"
   ]
  },
  {
   "cell_type": "code",
   "execution_count": 5,
   "id": "c8f725c6-60a2-445e-9b32-411743571f6e",
   "metadata": {},
   "outputs": [],
   "source": [
    "# Überschwingweite: Höchstens 24% ==> M < 1.24\n",
    "# Ausregelzeit: Taus = 6s\n",
    "# Bleibende REgelabweichung: e = 2 "
   ]
  },
  {
   "cell_type": "code",
   "execution_count": null,
   "id": "0ffeed52-5148-4cf5-966a-5665e6ed3800",
   "metadata": {},
   "outputs": [],
   "source": []
  }
 ],
 "metadata": {
  "kernelspec": {
   "display_name": "Python 3 (ipykernel)",
   "language": "python",
   "name": "python3"
  },
  "language_info": {
   "codemirror_mode": {
    "name": "ipython",
    "version": 3
   },
   "file_extension": ".py",
   "mimetype": "text/x-python",
   "name": "python",
   "nbconvert_exporter": "python",
   "pygments_lexer": "ipython3",
   "version": "3.9.19"
  }
 },
 "nbformat": 4,
 "nbformat_minor": 5
}
