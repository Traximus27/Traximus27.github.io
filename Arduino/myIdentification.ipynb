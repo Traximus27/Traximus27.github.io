{
 "cells": [
  {
   "cell_type": "code",
   "execution_count": 1,
   "id": "0a9085df-2d98-4cf8-ae90-1a343845cf98",
   "metadata": {},
   "outputs": [],
   "source": [
    "import control \n",
    "import numpy as np \n",
    "import matplotlib.pyplot as plt\n",
    "import pyfirmata\n",
    "import time\n",
    "import pandas as pd\n"
   ]
  },
  {
   "cell_type": "code",
   "execution_count": 2,
   "id": "55f25f52-5837-47c5-a967-ae39d33337d0",
   "metadata": {},
   "outputs": [
    {
     "name": "stdout",
     "output_type": "stream",
     "text": [
      "\u001b[0m\u001b[01;34manaconda3\u001b[0m/  \u001b[01;34mDokumente\u001b[0m/  myIdentification.ipynb  \u001b[01;34msnap\u001b[0m/\n",
      "\u001b[01;34mArduino\u001b[0m/    \u001b[01;34mDownloads\u001b[0m/  \u001b[01;34mÖffentlich\u001b[0m/             \u001b[01;34mVideos\u001b[0m/\n",
      "\u001b[01;34mBilder\u001b[0m/     \u001b[01;34mMusik\u001b[0m/      \u001b[01;34mSchreibtisch\u001b[0m/           \u001b[01;34mVorlagen\u001b[0m/\n"
     ]
    }
   ],
   "source": [
    "ls"
   ]
  },
  {
   "cell_type": "code",
   "execution_count": null,
   "id": "7125f87b-7ffa-4ea5-aa30-8515900a73bd",
   "metadata": {},
   "outputs": [],
   "source": [
    "mv myIdentification.ipynb Schreibtisch/my"
   ]
  }
 ],
 "metadata": {
  "kernelspec": {
   "display_name": "Python 3 (ipykernel)",
   "language": "python",
   "name": "python3"
  },
  "language_info": {
   "codemirror_mode": {
    "name": "ipython",
    "version": 3
   },
   "file_extension": ".py",
   "mimetype": "text/x-python",
   "name": "python",
   "nbconvert_exporter": "python",
   "pygments_lexer": "ipython3",
   "version": "3.9.19"
  }
 },
 "nbformat": 4,
 "nbformat_minor": 5
}
