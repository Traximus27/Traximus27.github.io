{
 "cells": [
  {
   "cell_type": "code",
   "execution_count": 5,
   "id": "937ce42a-bf17-4fed-a332-86b521668e06",
   "metadata": {},
   "outputs": [],
   "source": [
    "import control \n",
    "import numpy as np \n",
    "import matplotlib.pyplot as plt\n",
    "import pyfirmata\n",
    "import time\n"
   ]
  },
  {
   "cell_type": "code",
   "execution_count": 6,
   "id": "bcf64f97-e579-42a8-8f1d-18ec3a1cd925",
   "metadata": {},
   "outputs": [
    {
     "ename": "KeyboardInterrupt",
     "evalue": "",
     "output_type": "error",
     "traceback": [
      "\u001b[0;31m---------------------------------------------------------------------------\u001b[0m",
      "\u001b[0;31mKeyboardInterrupt\u001b[0m                         Traceback (most recent call last)",
      "Cell \u001b[0;32mIn[6], line 9\u001b[0m\n\u001b[1;32m      7\u001b[0m \u001b[38;5;28;01mwhile\u001b[39;00m \u001b[38;5;28;01mTrue\u001b[39;00m:\n\u001b[1;32m      8\u001b[0m     board\u001b[38;5;241m.\u001b[39mdigital[idPwm]\u001b[38;5;241m.\u001b[39mwrite(\u001b[38;5;241m1\u001b[39m)\n\u001b[0;32m----> 9\u001b[0m     \u001b[43mtime\u001b[49m\u001b[38;5;241;43m.\u001b[39;49m\u001b[43msleep\u001b[49m\u001b[43m(\u001b[49m\u001b[38;5;241;43m1\u001b[39;49m\u001b[43m)\u001b[49m\n\u001b[1;32m     10\u001b[0m     board\u001b[38;5;241m.\u001b[39mdigital[idPwm]\u001b[38;5;241m.\u001b[39mwrite(\u001b[38;5;241m0\u001b[39m)\n\u001b[1;32m     11\u001b[0m     time\u001b[38;5;241m.\u001b[39msleep(\u001b[38;5;241m1\u001b[39m)\n",
      "\u001b[0;31mKeyboardInterrupt\u001b[0m: "
     ]
    }
   ],
   "source": [
    "#https://realpython.com/arduino-python/\n",
    "#pip install pyfirmata\n",
    "#### --------------------------- CHECKING CODE --------------------------------\n",
    "\n",
    "board = pyfirmata.Arduino('/dev/ttyACM0')\n",
    "idPwm = 8;\n",
    "while True:\n",
    "    board.digital[idPwm].write(1)\n",
    "    time.sleep(1)\n",
    "    board.digital[idPwm].write(0)\n",
    "    time.sleep(1)"
   ]
  },
  {
   "cell_type": "code",
   "execution_count": 7,
   "id": "67db7d82-abaa-4960-95ab-b7fe56e8a591",
   "metadata": {},
   "outputs": [],
   "source": [
    "board.digital[idPwm].write(0)"
   ]
  },
  {
   "cell_type": "code",
   "execution_count": 18,
   "id": "ab2dbd66-1198-4af2-81d5-9881354b7523",
   "metadata": {},
   "outputs": [
    {
     "name": "stdout",
     "output_type": "stream",
     "text": [
      "0.0049\n",
      "0.1779\n",
      "0.4252\n",
      "0.5904\n",
      "0.6716\n",
      "0.7634\n",
      "0.8299\n",
      "0.8622\n",
      "0.8993\n",
      "0.9267\n",
      "0.9394\n",
      "0.955\n",
      "0.9668\n",
      "0.9726\n",
      "0.9785\n",
      "0.9814\n",
      "0.9863\n",
      "0.9892\n",
      "0.9902\n",
      "0.9922\n",
      "0.9941\n",
      "0.9941\n",
      "0.9951\n",
      "0.9951\n",
      "0.9961\n",
      "0.9961\n",
      "0.9971\n",
      "0.9971\n",
      "0.9961\n",
      "0.999\n",
      "0.9971\n",
      "0.998\n",
      "0.9961\n",
      "0.999\n",
      "0.999\n",
      "0.998\n",
      "0.998\n",
      "0.999\n",
      "0.9971\n",
      "0.998\n",
      "0.998\n",
      "0.998\n",
      "0.9971\n",
      "0.998\n",
      "0.998\n",
      "0.998\n",
      "0.999\n",
      "0.999\n",
      "0.9971\n",
      "0.998\n"
     ]
    }
   ],
   "source": [
    "\n",
    "#### --------------------------- AUFGABE 1: LESEN  -------------------------------\n",
    "idAnalogue = 0;\n",
    "idPwm = 8;\n",
    "# 10 Bits - Analog to digital converter: 2^10 \n",
    "A2D_v = 5;\n",
    "flgStart = 1;\n",
    "Ts = 0.05;\n",
    "idxTimer = 0; \n",
    "Tab_val = [0];\n",
    "Tab_time = [0];\n",
    "uControl = [0];\n",
    "\n",
    "it = pyfirmata.util.Iterator(board)\n",
    "it.start()\n",
    "potentiometer = board.analog[idAnalogue]\n",
    "potentiometer.enable_reporting()\n",
    "\n",
    "board.digital[idPwm].write(uControl)\n",
    "time.sleep(1)\n",
    "\n",
    "while flgStart == 1:\n",
    "        u = 1;\n",
    "        uControl.append(u);\n",
    "        board.digital[idPwm].write(u)\n",
    "        valRaw = potentiometer.read();\n",
    "        print(valRaw)\n",
    "        val = valRaw * A2D_v;\n",
    "        \n",
    "        time.sleep(Ts)\n",
    "        idxTimer = idxTimer + 1;\n",
    "        Tab_val.append(val);\n",
    "        uControl.append(5.*u);\n",
    "        Tab_time.append(idxTimer*Ts);\n",
    "\n",
    "        if idxTimer == Ts*1000:\n",
    "            flgStart = 0; \n",
    "    "
   ]
  },
  {
   "cell_type": "code",
   "execution_count": 19,
   "id": "c25d5286-72d4-44ad-a6ef-06443a4cefa5",
   "metadata": {},
   "outputs": [
    {
     "data": {
      "image/png": "[encoded data removed]",
      "text/plain": [
       "<Figure size 640x480 with 1 Axes>"
      ]
     },
     "metadata": {},
     "output_type": "display_data"
    }
   ],
   "source": [
    "plt.plot(Tab_time,Tab_val,'x',linewidth=2, markersize=12,label='y')\n",
    "plt.xlabel('Time [s]')\n",
    "plt.xlabel('Amplitude')\n",
    "plt.grid()\n",
    "plt.show()"
   ]
  },
  {
   "cell_type": "code",
   "execution_count": null,
   "id": "1051b95b-315a-476b-b3cd-5be1f7c93fb8",
   "metadata": {},
   "outputs": [],
   "source": []
  }
 ],
 "metadata": {
  "kernelspec": {
   "display_name": "Python 3 (ipykernel)",
   "language": "python",
   "name": "python3"
  },
  "language_info": {
   "codemirror_mode": {
    "name": "ipython",
    "version": 3
   },
   "file_extension": ".py",
   "mimetype": "text/x-python",
   "name": "python",
   "nbconvert_exporter": "python",
   "pygments_lexer": "ipython3",
   "version": "3.9.19"
  }
 },
 "nbformat": 4,
 "nbformat_minor": 5
}
