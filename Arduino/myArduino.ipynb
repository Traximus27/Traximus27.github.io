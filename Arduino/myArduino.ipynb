{
 "cells": [
  {
   "cell_type": "code",
   "execution_count": 1,
   "id": "937ce42a-bf17-4fed-a332-86b521668e06",
   "metadata": {},
   "outputs": [],
   "source": [
    "import control \n",
    "import numpy as np \n",
    "import matplotlib.pyplot as plt\n",
    "import pyfirmata\n",
    "import time\n"
   ]
  },
  {
   "cell_type": "code",
   "execution_count": 6,
   "id": "bcf64f97-e579-42a8-8f1d-18ec3a1cd925",
   "metadata": {},
   "outputs": [
    {
     "ename": "KeyboardInterrupt",
     "evalue": "",
     "output_type": "error",
     "traceback": [
      "\u001b[0;31m---------------------------------------------------------------------------\u001b[0m",
      "\u001b[0;31mKeyboardInterrupt\u001b[0m                         Traceback (most recent call last)",
      "Cell \u001b[0;32mIn[6], line 8\u001b[0m\n\u001b[1;32m      6\u001b[0m \u001b[38;5;28;01mwhile\u001b[39;00m \u001b[38;5;28;01mTrue\u001b[39;00m:\n\u001b[1;32m      7\u001b[0m     board\u001b[38;5;241m.\u001b[39mdigital[\u001b[38;5;241m13\u001b[39m]\u001b[38;5;241m.\u001b[39mwrite(\u001b[38;5;241m1\u001b[39m)\n\u001b[0;32m----> 8\u001b[0m     \u001b[43mtime\u001b[49m\u001b[38;5;241;43m.\u001b[39;49m\u001b[43msleep\u001b[49m\u001b[43m(\u001b[49m\u001b[38;5;241;43m1\u001b[39;49m\u001b[43m)\u001b[49m\n\u001b[1;32m      9\u001b[0m     board\u001b[38;5;241m.\u001b[39mdigital[\u001b[38;5;241m13\u001b[39m]\u001b[38;5;241m.\u001b[39mwrite(\u001b[38;5;241m0\u001b[39m)\n\u001b[1;32m     10\u001b[0m     time\u001b[38;5;241m.\u001b[39msleep(\u001b[38;5;241m1\u001b[39m)\n",
      "\u001b[0;31mKeyboardInterrupt\u001b[0m: "
     ]
    }
   ],
   "source": [
    "#https://realpython.com/arduino-python/\n",
    "#pip install pyfirmata\n",
    "\n",
    "board = pyfirmata.Arduino('/dev/ttyACM1')\n",
    "\n",
    "while True:\n",
    "    board.digital[13].write(1)\n",
    "    time.sleep(1)\n",
    "    board.digital[13].write(0)\n",
    "    time.sleep(1)"
   ]
  },
  {
   "cell_type": "code",
   "execution_count": 8,
   "id": "ab2dbd66-1198-4af2-81d5-9881354b7523",
   "metadata": {},
   "outputs": [
    {
     "name": "stdout",
     "output_type": "stream",
     "text": [
      "None\n",
      "0.999\n",
      "0.998\n",
      "0.9971\n",
      "0.998\n",
      "0.998\n"
     ]
    },
    {
     "ename": "KeyboardInterrupt",
     "evalue": "",
     "output_type": "error",
     "traceback": [
      "\u001b[0;31m---------------------------------------------------------------------------\u001b[0m",
      "\u001b[0;31mKeyboardInterrupt\u001b[0m                         Traceback (most recent call last)",
      "Cell \u001b[0;32mIn[8], line 14\u001b[0m\n\u001b[1;32m     12\u001b[0m time\u001b[38;5;241m.\u001b[39msleep(\u001b[38;5;241m0.1\u001b[39m)\n\u001b[1;32m     13\u001b[0m board\u001b[38;5;241m.\u001b[39mdigital[\u001b[38;5;241m13\u001b[39m]\u001b[38;5;241m.\u001b[39mwrite(\u001b[38;5;241m1\u001b[39m)\n\u001b[0;32m---> 14\u001b[0m \u001b[43mtime\u001b[49m\u001b[38;5;241;43m.\u001b[39;49m\u001b[43msleep\u001b[49m\u001b[43m(\u001b[49m\u001b[38;5;241;43m1\u001b[39;49m\u001b[43m)\u001b[49m\n",
      "\u001b[0;31mKeyboardInterrupt\u001b[0m: "
     ]
    }
   ],
   "source": [
    "board = pyfirmata.Arduino('/dev/ttyACM1')\n",
    "board.digital[13].write(1)\n",
    "\n",
    "it = pyfirmata.util.Iterator(board)\n",
    "it.start()\n",
    "potentiometer = board.analog[0]\n",
    "potentiometer.enable_reporting()\n",
    "\n",
    "while True:\n",
    "        val = potentiometer.read();\n",
    "        print(val)\n",
    "        time.sleep(0.1)\n",
    "        board.digital[13].write(1)\n",
    "        time.sleep(1)"
   ]
  },
  {
   "cell_type": "code",
   "execution_count": null,
   "id": "1051b95b-315a-476b-b3cd-5be1f7c93fb8",
   "metadata": {},
   "outputs": [],
   "source": []
  }
 ],
 "metadata": {
  "kernelspec": {
   "display_name": "Python 3 (ipykernel)",
   "language": "python",
   "name": "python3"
  },
  "language_info": {
   "codemirror_mode": {
    "name": "ipython",
    "version": 3
   },
   "file_extension": ".py",
   "mimetype": "text/x-python",
   "name": "python",
   "nbconvert_exporter": "python",
   "pygments_lexer": "ipython3",
   "version": "3.9.19"
  }
 },
 "nbformat": 4,
 "nbformat_minor": 5
}
